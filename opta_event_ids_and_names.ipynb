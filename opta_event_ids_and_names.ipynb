{
 "cells": [
  {
   "cell_type": "markdown",
   "id": "6dc8a92b",
   "metadata": {},
   "source": [
    "Opta Event Types, Qualifiers and Classifiers."
   ]
  },
  {
   "cell_type": "code",
   "execution_count": null,
   "id": "f80e1521",
   "metadata": {},
   "outputs": [],
   "source": [
    "import pandas as pd\n",
    "pd.options.display.max_rows = 999"
   ]
  },
  {
   "cell_type": "code",
   "execution_count": null,
   "id": "6eb7b554",
   "metadata": {},
   "outputs": [],
   "source": [
    "qualifiers = pd.read_excel('Opta_Event_Qualifiers_Cleaned.xlsx', index_col=0)\n",
    "classifiers = pd.read_excel('Opta_Classifiers_Cleaned.xlsx', index_col=0)\n",
    "event_types = pd.read_excel('Opta_Event_Types_Cleaned.xlsx', index_col=0)"
   ]
  },
  {
   "cell_type": "code",
   "execution_count": null,
   "id": "7da448ca",
   "metadata": {
    "scrolled": false
   },
   "outputs": [],
   "source": [
    "event_types"
   ]
  },
  {
   "cell_type": "code",
   "execution_count": null,
   "id": "c22e60ab",
   "metadata": {},
   "outputs": [],
   "source": []
  }
 ],
 "metadata": {
  "kernelspec": {
   "display_name": "Python 3",
   "language": "python",
   "name": "python3"
  },
  "language_info": {
   "codemirror_mode": {
    "name": "ipython",
    "version": 3
   },
   "file_extension": ".py",
   "mimetype": "text/x-python",
   "name": "python",
   "nbconvert_exporter": "python",
   "pygments_lexer": "ipython3",
   "version": "3.7.3"
  }
 },
 "nbformat": 4,
 "nbformat_minor": 5
}
